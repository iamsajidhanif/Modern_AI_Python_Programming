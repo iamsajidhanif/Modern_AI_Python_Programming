{
  "nbformat": 4,
  "nbformat_minor": 0,
  "metadata": {
    "colab": {
      "provenance": [],
      "authorship_tag": "ABX9TyM/12Psje2qfDgAo752J1jB"
    },
    "kernelspec": {
      "name": "python3",
      "display_name": "Python 3"
    },
    "language_info": {
      "name": "python"
    }
  },
  "cells": [
    {
      "cell_type": "markdown",
      "source": [
        "# Class 01 - Python Fundamentals for AI in Google Colab"
      ],
      "metadata": {
        "id": "-u-d-FtG_89x"
      }
    },
    {
      "cell_type": "code",
      "execution_count": 24,
      "metadata": {
        "colab": {
          "base_uri": "https://localhost:8080/"
        },
        "id": "E3gSBhcy7mGA",
        "outputId": "aa18229b-27e8-4bef-9084-8085417315f1"
      },
      "outputs": [
        {
          "output_type": "stream",
          "name": "stdout",
          "text": [
            "Hello World\n"
          ]
        }
      ],
      "source": [
        "print('Hello World')"
      ]
    },
    {
      "cell_type": "code",
      "source": [
        "fav_celebrity = 'Imran Khan'\n",
        "fav_food = 'Biryani'\n",
        "fav_game = 'Cricket'\n",
        "\n",
        "print('fav_celebrity = ', fav_celebrity)\n",
        "print('fav_food =', fav_food)\n",
        "print('fav_game =', fav_game)\n"
      ],
      "metadata": {
        "colab": {
          "base_uri": "https://localhost:8080/"
        },
        "id": "iQrpdUbV-H2A",
        "outputId": "4ae41809-6179-41bb-a53b-dd9858041c2f"
      },
      "execution_count": 36,
      "outputs": [
        {
          "output_type": "stream",
          "name": "stdout",
          "text": [
            "fav_celebrity =  Imran Khan\n",
            "fav_food = Biryani\n",
            "fav_game = Cricket\n"
          ]
        }
      ]
    }
  ]
}